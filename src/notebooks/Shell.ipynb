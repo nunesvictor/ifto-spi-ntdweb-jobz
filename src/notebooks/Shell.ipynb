{
 "cells": [
  {
   "cell_type": "code",
   "execution_count": null,
   "metadata": {},
   "outputs": [],
   "source": [
    "import django\n",
    "django.setup()"
   ]
  },
  {
   "cell_type": "code",
   "execution_count": null,
   "metadata": {},
   "outputs": [],
   "source": [
    "from core.models import Candidato, Cargo, Empresa, UF, Vaga"
   ]
  },
  {
   "cell_type": "code",
   "execution_count": null,
   "metadata": {},
   "outputs": [],
   "source": [
    "empresa1 = Empresa.objects.get(pk=1)\n",
    "empresa2 = Empresa.objects.get(pk=2)\n",
    "\n",
    "tecinf = Cargo.objects.get(pk=1)\n",
    "anasis = Cargo.objects.get(pk=2)\n",
    "\n",
    "PALMAS = 'PALMAS'\n",
    "GOIANIA = 'GOIANIA'\n",
    "\n",
    "go = UF.objects.get(sigla='GO')\n",
    "to = UF.objects.get(sigla='TO')\n"
   ]
  },
  {
   "cell_type": "code",
   "execution_count": null,
   "metadata": {},
   "outputs": [],
   "source": [
    "print('Por empresa')\n",
    "print(empresa1, Vaga.objects.por_empresa(empresa1))\n",
    "print(empresa2, Vaga.objects.por_empresa(empresa2))\n",
    "print()\n",
    "\n",
    "print('Por cargo')\n",
    "print(tecinf, Vaga.objects.por_cargo(tecinf))\n",
    "print(anasis, Vaga.objects.por_cargo(anasis))\n",
    "print()\n",
    "\n",
    "print('Por localidade')\n",
    "print(PALMAS, Vaga.objects.por_localidade(PALMAS))\n",
    "print(GOIANIA, Vaga.objects.por_localidade(GOIANIA))\n",
    "print()\n",
    "\n",
    "print('Por UF')\n",
    "print(go, Vaga.objects.por_uf(go))\n",
    "print(to, Vaga.objects.por_uf(to))"
   ]
  },
  {
   "cell_type": "code",
   "execution_count": null,
   "metadata": {},
   "outputs": [],
   "source": [
    "print('Por cargo')\n",
    "print(tecinf, Candidato.objects.por_cargo(tecinf))\n",
    "print(anasis, Candidato.objects.por_cargo(anasis))\n",
    "print()\n",
    "\n",
    "print('Por localidade')\n",
    "print(PALMAS, Candidato.objects.por_localidade(PALMAS))\n",
    "print(GOIANIA, Candidato.objects.por_localidade(GOIANIA))\n",
    "print()\n",
    "\n",
    "print('Por UF')\n",
    "print(go, Candidato.objects.por_uf(go))\n",
    "print(to, Candidato.objects.por_uf(to))"
   ]
  },
  {
   "cell_type": "code",
   "execution_count": null,
   "metadata": {},
   "outputs": [],
   "source": [
    "print('Por razao social')\n",
    "print('LTDAs', Empresa.objects.filter(razao_social__iendswith='ltda'))\n",
    "print('SAs', Empresa.objects.filter(razao_social__iendswith='s.a.'))\n",
    "print()\n",
    "\n",
    "print('Por CNPJ')\n",
    "print('00.000.000/0000-00', Empresa.objects.get(cnpj='00000000000000'))\n",
    "print('11.111.111/1111-11', Empresa.objects.get(cnpj='11111111111111'))\n",
    "print()\n"
   ]
  },
  {
   "cell_type": "code",
   "execution_count": null,
   "metadata": {},
   "outputs": [],
   "source": [
    "for candidato in Candidato.objects.all():\n",
    "    print(candidato.experiencias.all())"
   ]
  }
 ],
 "metadata": {
  "kernelspec": {
   "display_name": "Python 3 (ipykernel)",
   "language": "python",
   "name": "python3"
  },
  "language_info": {
   "codemirror_mode": {
    "name": "ipython",
    "version": 3
   },
   "file_extension": ".py",
   "mimetype": "text/x-python",
   "name": "python",
   "nbconvert_exporter": "python",
   "pygments_lexer": "ipython3",
   "version": "3.9.7"
  },
  "orig_nbformat": 4
 },
 "nbformat": 4,
 "nbformat_minor": 2
}
